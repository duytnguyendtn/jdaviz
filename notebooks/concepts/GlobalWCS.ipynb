{
 "cells": [
  {
   "cell_type": "markdown",
   "id": "17b4af6f",
   "metadata": {},
   "source": [
    "# Global WCS Hack Notebook\n",
    "\n",
    "\n",
    "This notebook hacks on the default ImvizExample.ipynb notebook to experiment with the feasibility of a global WCS frame to avoid the distortion issue discussed in the 2023-06-12 Hack Session"
   ]
  },
  {
   "cell_type": "markdown",
   "id": "7c73155f-c062-461a-8ca7-0891ce142901",
   "metadata": {},
   "source": [
    "Import modules needed for this notebook."
   ]
  },
  {
   "cell_type": "code",
   "execution_count": null,
   "id": "0915bde6-e3cc-4038-aca1-c2ae852f7a69",
   "metadata": {},
   "outputs": [],
   "source": [
    "import warnings\n",
    "import tempfile\n",
    "\n",
    "import matplotlib.pyplot as plt\n",
    "import numpy as np\n",
    "from astropy import units as u\n",
    "from astropy.coordinates import SkyCoord, Angle\n",
    "from astropy.table import Table\n",
    "from astroquery.mast import Observations\n",
    "from photutils.aperture import CircularAperture, SkyCircularAperture\n",
    "from regions import PixCoord, CirclePixelRegion, CircleSkyRegion\n",
    "\n",
    "from jdaviz import Imviz\n",
    "\n",
    "%matplotlib inline"
   ]
  },
  {
   "cell_type": "markdown",
   "id": "d29e55c0",
   "metadata": {},
   "source": [
    "### Preview of the dataset:\n",
    "\n",
    "The following dataset of the HorseHead Nebula plays nicely with our rotation code. Here's what the data looks just loaded natively into Imviz (I show this here to demonstrate the difference in the nuel rotation"
   ]
  },
  {
   "cell_type": "code",
   "execution_count": null,
   "id": "984887ed",
   "metadata": {},
   "outputs": [],
   "source": [
    "imviz_preview = Imviz()\n",
    "from astropy.utils.data import get_pkg_data_filename\n",
    "data_path = get_pkg_data_filename('tutorials/FITS-images/HorseHead.fits')\n",
    "imviz_preview.load_data(data_path)\n",
    "imviz_preview.link_data(link_type='wcs')\n",
    "imviz_preview.show()"
   ]
  },
  {
   "cell_type": "markdown",
   "id": "716c15c2",
   "metadata": {},
   "source": [
    "### Initial Setup"
   ]
  },
  {
   "cell_type": "markdown",
   "id": "a1100957",
   "metadata": {},
   "source": [
    "By default, this proposal would generate a NUEL-oriented WCS-only layer FIRST, before loading the actual data supplied. This will set the WCS-only layer as the reference data by default, effectively setting the sky as reference. "
   ]
  },
  {
   "cell_type": "code",
   "execution_count": null,
   "id": "76912ae8",
   "metadata": {
    "scrolled": false
   },
   "outputs": [],
   "source": [
    "def init_imviz_nuel(data_to_load):\n",
    "    imviz_prep = Imviz()\n",
    "    with warnings.catch_warnings():\n",
    "        warnings.simplefilter('ignore')\n",
    "        imviz_prep.load_data(data_to_load, data_label=\"temp_data\")\n",
    "    imviz_prep.plugins['Canvas Rotation'].set_north_up_east_left()\n",
    "    nuel_angle = imviz_prep.plugins['Canvas Rotation'].angle\n",
    "    print(nuel_angle)\n",
    "\n",
    "\n",
    "    from astropy import units as u\n",
    "    from jdaviz.configs.imviz.wcs_utils import _get_rotated_nddata_from_label\n",
    "    WCS_reference_frame = _get_rotated_nddata_from_label(imviz_prep.app, \"temp_data[PRIMARY,1]\", nuel_angle*u.deg)\n",
    "    WCS_reference_frame_45 = _get_rotated_nddata_from_label(imviz_prep.app, \"temp_data[PRIMARY,1]\", (nuel_angle+45)*u.deg)\n",
    "    \n",
    "    \n",
    "    imviz = Imviz()\n",
    "    imviz.load_data(WCS_reference_frame, data_label=\"nuel\")\n",
    "    imviz.load_data(WCS_reference_frame_45, data_label=\"nuel45\")\n",
    "    imviz.load_data(data_path)\n",
    "    imviz.link_data(link_type='wcs')\n",
    "    \n",
    "    # reset zoom:\n",
    "    viewer = imviz.app.get_viewer('imviz-0')\n",
    "    viewer.shape = imviz.app.data_collection[-1][\"PRIMARY,1\"].shape\n",
    "    viewer.state._set_axes_aspect_ratio(1)\n",
    "    viewer.state.reset_limits()\n",
    "    return imviz\n",
    "\n",
    "imviz = init_imviz_nuel(data_path)\n",
    "imviz.show()"
   ]
  },
  {
   "cell_type": "code",
   "execution_count": null,
   "id": "2f354f5e",
   "metadata": {},
   "outputs": [],
   "source": [
    "nuel = imviz.app.data_collection[0]\n",
    "imviz.app.data_collection.remove(nuel)\n",
    "imviz.app.data_collection"
   ]
  },
  {
   "cell_type": "code",
   "execution_count": null,
   "id": "257ba150",
   "metadata": {},
   "outputs": [],
   "source": []
  }
 ],
 "metadata": {
  "kernelspec": {
   "display_name": "Python 3 (ipykernel)",
   "language": "python",
   "name": "python3"
  },
  "language_info": {
   "codemirror_mode": {
    "name": "ipython",
    "version": 3
   },
   "file_extension": ".py",
   "mimetype": "text/x-python",
   "name": "python",
   "nbconvert_exporter": "python",
   "pygments_lexer": "ipython3",
   "version": "3.10.4"
  }
 },
 "nbformat": 4,
 "nbformat_minor": 5
}
